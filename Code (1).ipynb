{
 "cells": [
  {
   "cell_type": "code",
   "execution_count": 1,
   "id": "2edcdd13-9195-4f47-bb83-9b6c7f0abef9",
   "metadata": {},
   "outputs": [],
   "source": [
    "import sqlite3\n",
    "import pandas as pd\n",
    "import numpy as np\n",
    "import matplotlib.pyplot as plt\n",
    "import langid\n",
    "import string\n",
    "import re\n",
    "from googletrans import Translator\n",
    "from autocorrect import Speller"
   ]
  },
  {
   "cell_type": "code",
   "execution_count": 29,
   "id": "7fb667a8-74b3-474f-9047-3d3c405c8535",
   "metadata": {},
   "outputs": [
    {
     "name": "stdout",
     "output_type": "stream",
     "text": [
      "Found table: REVIEWS\n",
      "  ID                                             REVIEW RATING  \\\n",
      "0  1  I don't get all the terrible reviews for this ...      5   \n",
      "1  2  I cannot believe anyone could give this film l...      8   \n",
      "2  3  Great White is not the worst way to spend 90 m...      4   \n",
      "3  4  Great White is as basic of a killer shark film...      4   \n",
      "4  5  Terrible story, dialogue and CGI. The film has...      4   \n",
      "\n",
      "                 AUTHOR                                              TITLE  \n",
      "0       margarida-44311                                          Not Bad\\n  \n",
      "1              joemay-2   What are all the bad reviews about is it a wo...  \n",
      "2                  nebk                            Great White=Jaws Lite\\n  \n",
      "3             kuarinofu                     Bare-bones killer shark film\\n  \n",
      "4  Horror_Flick_Fanatic                Terrible story, dialogue, and CGI\\n  \n"
     ]
    }
   ],
   "source": [
    "#Reading the data base\n",
    "# Connect to the SQLite database\n",
    "conn = sqlite3.connect(\"IMDB_Movies_2021.db\")\n",
    "\n",
    "# Automatically get the first table name in the database\n",
    "cursor = conn.cursor()\n",
    "cursor.execute(\"SELECT name FROM sqlite_master WHERE type='table';\")\n",
    "table_name = cursor.fetchone()[0]  # Fetch the first table name\n",
    "print(f\"Found table: {table_name}\")\n",
    "\n",
    "# Query all data from the first table\n",
    "cursor.execute(f\"SELECT * FROM {table_name}\")\n",
    "data = cursor.fetchall()  # Fetch all rows\n",
    "column_names = [desc[0] for desc in cursor.description]  # Extract column names\n",
    "\n",
    "# Convert data to a NumPy array\n",
    "np_data = np.array(data, dtype=object)  # Use dtype=object to handle mixed data types\n",
    "df = pd.DataFrame(np_data, columns=column_names)\n",
    "print(df.head())\n",
    "# Display the first few rows\n"
   ]
  },
  {
   "cell_type": "code",
   "execution_count": 4,
   "id": "462f5701-7b8a-4203-8a91-b7277c213dbb",
   "metadata": {},
   "outputs": [
    {
     "data": {
      "text/plain": [
       "5450"
      ]
     },
     "execution_count": 4,
     "metadata": {},
     "output_type": "execute_result"
    }
   ],
   "source": [
    "#How many enteries in the data base\n",
    "len(df)"
   ]
  },
  {
   "cell_type": "code",
   "execution_count": 5,
   "id": "d5357288-cfda-49ea-9ef2-2b24dea8199a",
   "metadata": {},
   "outputs": [
    {
     "name": "stdout",
     "output_type": "stream",
     "text": [
      "118\n"
     ]
    }
   ],
   "source": [
    "#How many enteries have nan in them\n",
    "nan_values = df[df.isnull().any(axis=1)]\n",
    "print(len(nan_values))"
   ]
  },
  {
   "cell_type": "code",
   "execution_count": 30,
   "id": "9871ee5b-5ffb-470b-b22d-374361c0b178",
   "metadata": {},
   "outputs": [
    {
     "name": "stdout",
     "output_type": "stream",
     "text": [
      "Missing values in ID: 0\n",
      "Missing values in REVIEW: 0\n",
      "Missing values in RATING: 118\n",
      "Missing values in AUTHOR: 0\n",
      "Missing values in TITLE: 0\n"
     ]
    }
   ],
   "source": [
    "#How many nan enteries in each col\n",
    "for col in [\"ID\", \"REVIEW\", \"RATING\", \"AUTHOR\", \"TITLE\"]:\n",
    "    print(f\"Missing values in {col}: {df[col].isnull().sum()}\")\n"
   ]
  },
  {
   "cell_type": "code",
   "execution_count": 7,
   "id": "871f03f8-f80e-4409-932f-eb00b9551075",
   "metadata": {},
   "outputs": [],
   "source": [
    "#Delete all rows with nan in\n",
    "df_delete = df.dropna()"
   ]
  },
  {
   "cell_type": "code",
   "execution_count": 8,
   "id": "e16196ca-5925-4f5b-8bc9-5d96c7107cfb",
   "metadata": {},
   "outputs": [],
   "source": [
    "#Replace all nan values with mean\n",
    "#rating_mean = df[\"RATING\"].mean()\n",
    "#df_mean = df.replace(isnull() == rating_mean)\n",
    "#df_mean = df[\"RATING\"].where(~df[\"RATING\"].isnull(), rating_mean)"
   ]
  },
  {
   "cell_type": "code",
   "execution_count": 31,
   "id": "e4f37555-4082-4619-9e35-3f0d489bec80",
   "metadata": {},
   "outputs": [
    {
     "name": "stdout",
     "output_type": "stream",
     "text": [
      "0\n"
     ]
    }
   ],
   "source": [
    "#Duplicates\n",
    "num_duplicates = df.duplicated().sum()\n",
    "print(num_duplicates)"
   ]
  },
  {
   "cell_type": "code",
   "execution_count": 32,
   "id": "0b270836-20b6-4bdf-a3a6-fd9f58831209",
   "metadata": {},
   "outputs": [
    {
     "data": {
      "text/plain": [
       "5.2426856714178545"
      ]
     },
     "execution_count": 32,
     "metadata": {},
     "output_type": "execute_result"
    }
   ],
   "source": [
    "#mean of ratings\n",
    "df[\"RATING\"].mean()"
   ]
  },
  {
   "cell_type": "code",
   "execution_count": 11,
   "id": "4448ff44-a54f-4cb0-831a-dafc96adf4c4",
   "metadata": {},
   "outputs": [],
   "source": [
    "#seed? - might be needed to keep data set the same\n",
    "\n",
    "#heatmap for correlations?"
   ]
  },
  {
   "cell_type": "code",
   "execution_count": 42,
   "id": "9d09021e",
   "metadata": {
    "scrolled": true
   },
   "outputs": [
    {
     "name": "stdout",
     "output_type": "stream",
     "text": [
      "0    I don't get all the terrible reviews for this ...\n",
      "1    I cannot believe anyone could give this film l...\n",
      "2    Great White is not the worst way to spend 90 m...\n",
      "3    Great White is as basic of a killer shark film...\n",
      "4    Terrible story, dialogue and CGI. The film has...\n",
      "Name: REVIEW, dtype: object\n",
      "goonies wanna be goonies wanna be goonies wanna be goonies wanna be\n",
      "tried to give it a chance but sorry it wasn t worth to spend 2 hours watching the movie          \n"
     ]
    }
   ],
   "source": [
    "#TEXT PREPROCESSING\n",
    "rating = df[\"REVIEW\"]\n",
    "#for i in rating: print(langid.classify(i))\n",
    "print(rating.head())\n",
    "#REGEX\n",
    "punct = str.maketrans(string.punctuation, ' ' * len(string.punctuation)) #space equal to punct remove '!!!' = '   ' \n",
    "rating = rating.str.translate(punct)\n",
    "non_eng_indices, trans_text = [],[]\n",
    "for i in range(len(rating)):\n",
    "    lang, prob = langid.classify(rating[i])\n",
    "    if lang != 'en':\n",
    "        non_eng_indices.append(i)\n",
    "\n",
    "translator = Translator()\n",
    "spell = Speller()\n",
    "\n",
    "for sentence in non_eng_indices:\n",
    "    translated_text = translator.translate(rating[sentence], dest='en')\n",
    "    trans_text.append(translated_text.text)\n",
    "\n",
    "for index, translated_sentence in zip(non_eng_indices, trans_text):\n",
    "    rating[index] = translated_sentence.replace(\"\\n\", \" \")\n",
    "\n",
    "rating = rating.str.lower()\n",
    "char_bank = string.ascii_letters + string.digits + string.punctuation #'normal' char if you want to remove punctuation just del\n",
    "rating = rating.str.replace(rf'[^' + re.escape(char_bank) + r']', ' ', regex=True) #replace non bank char\n",
    "rating = rating.str.replace(r'\\s+', ' ', regex=True).str.strip() #multiple white spaces to one\n",
    "rating = rating.apply(spell) #autocorrect\n",
    "print(rating[546])\n",
    "print(rating[584])\n",
    "#maybe lemmetization, numbers to words, removing filler words"
   ]
  },
  {
   "cell_type": "code",
   "execution_count": null,
   "id": "08bb31cb",
   "metadata": {},
   "outputs": [],
   "source": []
  },
  {
   "cell_type": "code",
   "execution_count": null,
   "id": "f14dd8a8",
   "metadata": {},
   "outputs": [],
   "source": []
  }
 ],
 "metadata": {
  "kernelspec": {
   "display_name": "Python 3 (ipykernel)",
   "language": "python",
   "name": "python3"
  },
  "language_info": {
   "codemirror_mode": {
    "name": "ipython",
    "version": 3
   },
   "file_extension": ".py",
   "mimetype": "text/x-python",
   "name": "python",
   "nbconvert_exporter": "python",
   "pygments_lexer": "ipython3",
   "version": "3.11.9"
  }
 },
 "nbformat": 4,
 "nbformat_minor": 5
}
